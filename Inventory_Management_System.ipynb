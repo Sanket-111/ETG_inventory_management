{
  "nbformat": 4,
  "nbformat_minor": 0,
  "metadata": {
    "colab": {
      "name": "Inventory Management System.ipynb",
      "provenance": [],
      "authorship_tag": "ABX9TyMoBNzG1ZHA46IiyyUhBIwI",
      "include_colab_link": true
    },
    "kernelspec": {
      "name": "python3",
      "display_name": "Python 3"
    },
    "language_info": {
      "name": "python"
    }
  },
  "cells": [
    {
      "cell_type": "markdown",
      "metadata": {
        "id": "view-in-github",
        "colab_type": "text"
      },
      "source": [
        "<a href=\"https://colab.research.google.com/github/Sanket-111/ETG_inventory_management/blob/main/Inventory_Management_System.ipynb\" target=\"_parent\"><img src=\"https://colab.research.google.com/assets/colab-badge.svg\" alt=\"Open In Colab\"/></a>"
      ]
    },
    {
      "cell_type": "markdown",
      "metadata": {
        "id": "6qZ_W1BMZSxa"
      },
      "source": [
        "***Welcome to Inventory Management System***"
      ]
    },
    {
      "cell_type": "markdown",
      "metadata": {
        "id": "aFdmG9CdKpl-"
      },
      "source": [
        "***************************"
      ]
    },
    {
      "cell_type": "markdown",
      "metadata": {
        "id": "W-0MtTKCZh7X"
      },
      "source": [
        "**Name :Sanket Shivaji Jadhav.**\n",
        "##Thanks to ETG for oppourtunity of an internship and this wonderfull Project. "
      ]
    },
    {
      "cell_type": "markdown",
      "metadata": {
        "id": "aHXpXniFKrrU"
      },
      "source": [
        "******************"
      ]
    },
    {
      "cell_type": "markdown",
      "metadata": {
        "id": "8epe0d-AKr03"
      },
      "source": [
        "****************\n"
      ]
    },
    {
      "cell_type": "markdown",
      "metadata": {
        "id": "spiZokF7I0_i"
      },
      "source": [
        "## 1)  Entering the data inside a json file for Processing"
      ]
    },
    {
      "cell_type": "markdown",
      "metadata": {
        "id": "PQUYe6LTK9t9"
      },
      "source": [
        "****"
      ]
    },
    {
      "cell_type": "code",
      "metadata": {
        "id": "4tQCo0xoRrCs"
      },
      "source": [
        "data={\n",
        "    1201:{\"Name\":\"Chocolate\"   , \"Price\":200     , \"Expiry\":\"3 months\"     ,\"color\":\"NA \"      ,\"Discount\":0    , \"Quantity\":10},\n",
        "    1202:{\"Name\":\"Cake \"      , \"Price\":50      , \"Expiry\":\"3 months\"      ,\"color\":\"NA \"      ,\"Discount\":0    , \"Quantity\":20},\n",
        "    1203:{\"Name\":\"Bicycle \"   , \"Price\":5000    , \"Expiry\":\"12 months\"     ,\"color\":\"Blue\"     ,\"Discount\":0    , \"Quantity\":20},\n",
        "    1204:{\"Name\":\"T-shirt \"   , \"Price\":499     , \"Expiry\":\"12 months\"     ,\"color\":\"NA \"      ,\"Discount\":0    , \"Quantity\":47},\n",
        "    1205:{\"Name\":\"Jeans \"     , \"Price\":800     , \"Expiry\":\"12 months\"     ,\"color\":\"NA \"      ,\"Discount\":0    , \"Quantity\":32},\n",
        "    1206:{\"Name\":\"Shirt \"     , \"Price\":499     , \"Expiry\":\"3months\"       ,\"color\":\"Red\"      ,\"Discount\":0    , \"Quantity\":47},\n",
        "    1207:{\"Name\":\"WaterBottel\", \"Price\":20      , \"Expiry\":\"12months\"      ,\"color\":\"Orange \"  ,\"Discount\":0    , \"Quantity\":23},\n",
        "    1208:{\"Name\":\"Mobile \"    , \"Price\":10000   , \"Expiry\":\"3months\"       ,\"color\":\"NA \"      ,\"Discount\":150  , \"Quantity\":12},\n",
        "    1209:{\"Name\":\"Dress \"      , \"Price\":1900    , \"Expiry\":\"3months\"      ,\"color\":\"NA \"      ,\"Discount\":100  , \"Quantity\":22},\n",
        "    1210:{\"Name\":\"Laptop  \"    , \"Price\":35000   , \"Expiry\":\"3months\"      ,\"color\":\"Red\"      ,\"Discount\":1000  , \"Quantity\":47},\n",
        "    1211:{\"Name\":\"Ipad \"       , \"Price\":20000   , \"Expiry\":\"3months\"      ,\"color\":\"Orange\"   ,\"Discount\":300    , \"Quantity\":44},\n",
        "    1212:{\"Name\":\"Iphone \"    , \"Price\":80000   , \"Expiry\":\"3months\"       ,\"color\":\"Green \"   ,\"Discount\":200    , \"Quantity\":78},\n",
        "    1213:{\"Name\":\"Watches \"   , \"Price\":1000    , \"Expiry\":\"6 months\"      ,\"color\":\"NA \"      ,\"Discount\":200    , \"Quantity\":47},\n",
        "    1214:{\"Name\":\"Googels\"    , \"Price\":200     , \"Expiry\": \"6 months\"     ,\"color\":\"Orange \"  ,\"Discount\":0      , \"Quantity\":67},\n",
        "    1215:{\"Name\":\"Perfumes \"   , \"Price\":250    , \"Expiry\":\"6 months\"     ,\"color\":\"NA \"      ,\"Discount\":0    , \"Quantity\":47},\n",
        "    1216:{\"Name\":\"Umbrella \"  , \"Price\":430     , \"Expiry\":\"6 months\"      ,\"color\":\"NA \"      ,\"Discount\":0    , \"Quantity\":65},\n",
        "    1217:{\"Name\":\"Raincot\"    , \"Price\":230     , \"Expiry\":\"6 months\"      ,\"color\":\"NA \"      ,\"Discount\":0    , \"Quantity\":47},\n",
        "    1218:{\"Name\":\"Bag \"        , \"Price\":500     , \"Expiry\":\"6 months\"      ,\"color\":\" NA\"      ,\"Discount\":0   , \"Quantity\":76},\n",
        "    1219:{\"Name\":\"Purse \"      , \"Price\":300     , \"Expiry\":\"6 months\"      ,\"color\":\" NA\"      ,\"Discount\":0   , \"Quantity\":47},\n",
        "    1220:{\"Name\":\"Comb \"       , \"Price\":30      , \"Expiry\":\"9 months\"      ,\"color\":\"Orange \"  ,\"Discount\":0   , \"Quantity\":66},\n",
        "    1221:{\"Name\":\"Pen\"         , \"Price\":25      , \"Expiry\":\"9 months\"      ,\"color\":\"Yellow\"   ,\"Discount\":0   , \"Quantity\":47},\n",
        "    1222:{\"Name\":\"Pencil\"      , \"Price\":15      , \"Expiry\":\"9 months\"      ,\"color\":\"NA\"       ,\"Discount\":0   , \"Quantity\":45},\n",
        "    1223:{\"Name\":\"Scale\"       , \"Price\":15     , \"Expiry\":\"9 months\"      ,\"color\":\"NA\"       ,\"Discount\":1   , \"Quantity\":33},\n",
        "    1224:{\"Name\":\"Calculator\"  , \"Price\":250    , \"Expiry\":\"9 months\"      ,\"color\":\" red\"     ,\"Discount\":0   , \"Quantity\":33},\n",
        "    1225:{\"Name\":\"Mixer \"      , \"Price\":2500   , \"Expiry\":\"9 months\"      ,\"color\":\" red\"     ,\"Discount\":100 , \"Quantity\":222},\n",
        "    1226:{\"Name\":\"Mask \"       , \"Price\":30      , \"Expiry\":\"9 months\"      ,\"color\":\"NA \"      ,\"Discount\":0   , \"Quantity\":33},\n",
        "    1227:{\"Name\":\"Keyboard\"    , \"Price\":200     , \"Expiry\": \"9 months\"     ,\"color\":\"Red \"     ,\"Discount\":0   , \"Quantity\":2},\n",
        "    1228:{\"Name\":\"Bucket\"     , \"Price\":400     , \"Expiry\":\"12 months\"     ,\"color\":\"Blue \"    ,\"Discount\":0    , \"Quantity\":22},\n",
        "    1229:{\"Name\":\"Notebook\"    , \"Price\":50      , \"Expiry\": \"12 months\"    ,\"color\":\"NA \"      ,\"Discount\":0   , \"Quantity\":33},\n",
        "    1230:{\"Name\":\"Sanitizer\"   , \"Price\":120     , \"Expiry\": \"12 months\"    ,\"color\":\"NA \"      ,\"Discount\":0   , \"Quantity\":22},\n",
        " \n",
        "}\n",
        "sale={}"
      ],
      "execution_count": 1,
      "outputs": []
    },
    {
      "cell_type": "code",
      "metadata": {
        "id": "UagafLvkJM81"
      },
      "source": [
        "import json\n",
        "js=json.dumps(data)"
      ],
      "execution_count": 2,
      "outputs": []
    },
    {
      "cell_type": "code",
      "metadata": {
        "id": "ft1h4z0j0_3Z",
        "colab": {
          "base_uri": "https://localhost:8080/"
        },
        "outputId": "50e6955d-c48f-49a7-cb13-b184bf44eb71"
      },
      "source": [
        "fd=open(\"record.json\",'w')\n",
        "fd.write(js)\n",
        "fd.close()\n",
        "print(\"Data Entered Succesfully\")"
      ],
      "execution_count": 3,
      "outputs": [
        {
          "output_type": "stream",
          "name": "stdout",
          "text": [
            "Data Entered Succesfully\n"
          ]
        }
      ]
    },
    {
      "cell_type": "code",
      "metadata": {
        "id": "g1q4Cjqd2Rfq"
      },
      "source": [
        "fd=open(\"record.json\",'r')\n",
        "txt=fd.read()\n",
        "fd.close()"
      ],
      "execution_count": 4,
      "outputs": []
    },
    {
      "cell_type": "code",
      "metadata": {
        "id": "BoZ0KbX92RhR",
        "colab": {
          "base_uri": "https://localhost:8080/"
        },
        "outputId": "a0c2304e-67ef-49dc-d862-822a70cf5ada"
      },
      "source": [
        "record=json.loads(txt)\n",
        "record"
      ],
      "execution_count": 5,
      "outputs": [
        {
          "output_type": "execute_result",
          "data": {
            "text/plain": [
              "{'1201': {'Discount': 0,\n",
              "  'Expiry': '3 months',\n",
              "  'Name': 'Chocolate',\n",
              "  'Price': 200,\n",
              "  'Quantity': 10,\n",
              "  'color': 'NA '},\n",
              " '1202': {'Discount': 0,\n",
              "  'Expiry': '3 months',\n",
              "  'Name': 'Cake ',\n",
              "  'Price': 50,\n",
              "  'Quantity': 20,\n",
              "  'color': 'NA '},\n",
              " '1203': {'Discount': 0,\n",
              "  'Expiry': '12 months',\n",
              "  'Name': 'Bicycle ',\n",
              "  'Price': 5000,\n",
              "  'Quantity': 20,\n",
              "  'color': 'Blue'},\n",
              " '1204': {'Discount': 0,\n",
              "  'Expiry': '12 months',\n",
              "  'Name': 'T-shirt ',\n",
              "  'Price': 499,\n",
              "  'Quantity': 47,\n",
              "  'color': 'NA '},\n",
              " '1205': {'Discount': 0,\n",
              "  'Expiry': '12 months',\n",
              "  'Name': 'Jeans ',\n",
              "  'Price': 800,\n",
              "  'Quantity': 32,\n",
              "  'color': 'NA '},\n",
              " '1206': {'Discount': 0,\n",
              "  'Expiry': '3months',\n",
              "  'Name': 'Shirt ',\n",
              "  'Price': 499,\n",
              "  'Quantity': 47,\n",
              "  'color': 'Red'},\n",
              " '1207': {'Discount': 0,\n",
              "  'Expiry': '12months',\n",
              "  'Name': 'WaterBottel',\n",
              "  'Price': 20,\n",
              "  'Quantity': 23,\n",
              "  'color': 'Orange '},\n",
              " '1208': {'Discount': 150,\n",
              "  'Expiry': '3months',\n",
              "  'Name': 'Mobile ',\n",
              "  'Price': 10000,\n",
              "  'Quantity': 12,\n",
              "  'color': 'NA '},\n",
              " '1209': {'Discount': 100,\n",
              "  'Expiry': '3months',\n",
              "  'Name': 'Dress ',\n",
              "  'Price': 1900,\n",
              "  'Quantity': 22,\n",
              "  'color': 'NA '},\n",
              " '1210': {'Discount': 1000,\n",
              "  'Expiry': '3months',\n",
              "  'Name': 'Laptop  ',\n",
              "  'Price': 35000,\n",
              "  'Quantity': 47,\n",
              "  'color': 'Red'},\n",
              " '1211': {'Discount': 300,\n",
              "  'Expiry': '3months',\n",
              "  'Name': 'Ipad ',\n",
              "  'Price': 20000,\n",
              "  'Quantity': 44,\n",
              "  'color': 'Orange'},\n",
              " '1212': {'Discount': 200,\n",
              "  'Expiry': '3months',\n",
              "  'Name': 'Iphone ',\n",
              "  'Price': 80000,\n",
              "  'Quantity': 78,\n",
              "  'color': 'Green '},\n",
              " '1213': {'Discount': 200,\n",
              "  'Expiry': '6 months',\n",
              "  'Name': 'Watches ',\n",
              "  'Price': 1000,\n",
              "  'Quantity': 47,\n",
              "  'color': 'NA '},\n",
              " '1214': {'Discount': 0,\n",
              "  'Expiry': '6 months',\n",
              "  'Name': 'Googels',\n",
              "  'Price': 200,\n",
              "  'Quantity': 67,\n",
              "  'color': 'Orange '},\n",
              " '1215': {'Discount': 0,\n",
              "  'Expiry': '6 months',\n",
              "  'Name': 'Perfumes ',\n",
              "  'Price': 250,\n",
              "  'Quantity': 47,\n",
              "  'color': 'NA '},\n",
              " '1216': {'Discount': 0,\n",
              "  'Expiry': '6 months',\n",
              "  'Name': 'Umbrella ',\n",
              "  'Price': 430,\n",
              "  'Quantity': 65,\n",
              "  'color': 'NA '},\n",
              " '1217': {'Discount': 0,\n",
              "  'Expiry': '6 months',\n",
              "  'Name': 'Raincot',\n",
              "  'Price': 230,\n",
              "  'Quantity': 47,\n",
              "  'color': 'NA '},\n",
              " '1218': {'Discount': 0,\n",
              "  'Expiry': '6 months',\n",
              "  'Name': 'Bag ',\n",
              "  'Price': 500,\n",
              "  'Quantity': 76,\n",
              "  'color': ' NA'},\n",
              " '1219': {'Discount': 0,\n",
              "  'Expiry': '6 months',\n",
              "  'Name': 'Purse ',\n",
              "  'Price': 300,\n",
              "  'Quantity': 47,\n",
              "  'color': ' NA'},\n",
              " '1220': {'Discount': 0,\n",
              "  'Expiry': '9 months',\n",
              "  'Name': 'Comb ',\n",
              "  'Price': 30,\n",
              "  'Quantity': 66,\n",
              "  'color': 'Orange '},\n",
              " '1221': {'Discount': 0,\n",
              "  'Expiry': '9 months',\n",
              "  'Name': 'Pen',\n",
              "  'Price': 25,\n",
              "  'Quantity': 47,\n",
              "  'color': 'Yellow'},\n",
              " '1222': {'Discount': 0,\n",
              "  'Expiry': '9 months',\n",
              "  'Name': 'Pencil',\n",
              "  'Price': 15,\n",
              "  'Quantity': 45,\n",
              "  'color': 'NA'},\n",
              " '1223': {'Discount': 1,\n",
              "  'Expiry': '9 months',\n",
              "  'Name': 'Scale',\n",
              "  'Price': 15,\n",
              "  'Quantity': 33,\n",
              "  'color': 'NA'},\n",
              " '1224': {'Discount': 0,\n",
              "  'Expiry': '9 months',\n",
              "  'Name': 'Calculator',\n",
              "  'Price': 250,\n",
              "  'Quantity': 33,\n",
              "  'color': ' red'},\n",
              " '1225': {'Discount': 100,\n",
              "  'Expiry': '9 months',\n",
              "  'Name': 'Mixer ',\n",
              "  'Price': 2500,\n",
              "  'Quantity': 222,\n",
              "  'color': ' red'},\n",
              " '1226': {'Discount': 0,\n",
              "  'Expiry': '9 months',\n",
              "  'Name': 'Mask ',\n",
              "  'Price': 30,\n",
              "  'Quantity': 33,\n",
              "  'color': 'NA '},\n",
              " '1227': {'Discount': 0,\n",
              "  'Expiry': '9 months',\n",
              "  'Name': 'Keyboard',\n",
              "  'Price': 200,\n",
              "  'Quantity': 2,\n",
              "  'color': 'Red '},\n",
              " '1228': {'Discount': 0,\n",
              "  'Expiry': '12 months',\n",
              "  'Name': 'Bucket',\n",
              "  'Price': 400,\n",
              "  'Quantity': 22,\n",
              "  'color': 'Blue '},\n",
              " '1229': {'Discount': 0,\n",
              "  'Expiry': '12 months',\n",
              "  'Name': 'Notebook',\n",
              "  'Price': 50,\n",
              "  'Quantity': 33,\n",
              "  'color': 'NA '},\n",
              " '1230': {'Discount': 0,\n",
              "  'Expiry': '12 months',\n",
              "  'Name': 'Sanitizer',\n",
              "  'Price': 120,\n",
              "  'Quantity': 22,\n",
              "  'color': 'NA '}}"
            ]
          },
          "metadata": {},
          "execution_count": 5
        }
      ]
    },
    {
      "cell_type": "markdown",
      "metadata": {
        "id": "XBUqfJlFSzA5"
      },
      "source": [
        "*****"
      ]
    },
    {
      "cell_type": "markdown",
      "metadata": {
        "id": "ojb7f_PiJx6-"
      },
      "source": [
        "## 2) For Entering New Data to an Existing data"
      ]
    },
    {
      "cell_type": "markdown",
      "metadata": {
        "id": "-aLMRGU2Jx8r"
      },
      "source": [
        "** ************************************* **"
      ]
    },
    {
      "cell_type": "code",
      "metadata": {
        "colab": {
          "base_uri": "https://localhost:8080/"
        },
        "id": "ZTRzmc7dLKMq",
        "outputId": "6c6b9e76-4654-4294-ff71-7f9e3071f2fd"
      },
      "source": [
        "print(\"Enter the Product Details\\n\")\n",
        "id=str(input(\"Enter the ID of an item : \"))\n",
        "name=str(input(\"Enter the name the Product: \"))\n",
        "price=int(input(\"Enter the price of an item: \"))\n",
        "expiry=str(input(\"Enter the expiry date in months: \"))\n",
        "color=str(input(\"Enter the color of Item: \"))\n",
        "Quntity=int(input(\"Enter the number of items: \"))\n",
        "dis=int(input(\"Enter the discount for the Item: \"))\n",
        "\n",
        "record[id]={'Name':name, 'Price':price,\"Expiry\":expiry,\"color\":color,\"Discount\":dis,\"Quantity\":Quntity}"
      ],
      "execution_count": 6,
      "outputs": [
        {
          "name": "stdout",
          "output_type": "stream",
          "text": [
            "Enter the Product Details\n",
            "\n",
            "Enter the ID of an item : 1231\n",
            "Enter the name the Product: Headset\n",
            "Enter the price of an item: 1200\n",
            "Enter the expiry date in months: 2 Years\n",
            "Enter the color of Item: White\n",
            "Enter the number of items: 100\n",
            "Enter the discount for the Item: 20\n"
          ]
        }
      ]
    },
    {
      "cell_type": "code",
      "metadata": {
        "id": "dpVW6sftLKOC",
        "colab": {
          "base_uri": "https://localhost:8080/"
        },
        "outputId": "bd81818d-d937-43c6-ffe0-813e312b5e46"
      },
      "source": [
        "js=json.dumps(record)\n",
        "fd=open(\"record.json\",\"w\")\n",
        "fd.write(js)\n",
        "fd.close()\n",
        "print(\"Data Entered Successfully\")"
      ],
      "execution_count": 7,
      "outputs": [
        {
          "output_type": "stream",
          "name": "stdout",
          "text": [
            "Data Entered Successfully\n"
          ]
        }
      ]
    },
    {
      "cell_type": "code",
      "metadata": {
        "id": "HyDTVze-LKgD",
        "colab": {
          "base_uri": "https://localhost:8080/"
        },
        "outputId": "ef20ca8c-3666-4c08-9a7a-afeb13535d6d"
      },
      "source": [
        "record"
      ],
      "execution_count": 8,
      "outputs": [
        {
          "output_type": "execute_result",
          "data": {
            "text/plain": [
              "{'1201': {'Discount': 0,\n",
              "  'Expiry': '3 months',\n",
              "  'Name': 'Chocolate',\n",
              "  'Price': 200,\n",
              "  'Quantity': 10,\n",
              "  'color': 'NA '},\n",
              " '1202': {'Discount': 0,\n",
              "  'Expiry': '3 months',\n",
              "  'Name': 'Cake ',\n",
              "  'Price': 50,\n",
              "  'Quantity': 20,\n",
              "  'color': 'NA '},\n",
              " '1203': {'Discount': 0,\n",
              "  'Expiry': '12 months',\n",
              "  'Name': 'Bicycle ',\n",
              "  'Price': 5000,\n",
              "  'Quantity': 20,\n",
              "  'color': 'Blue'},\n",
              " '1204': {'Discount': 0,\n",
              "  'Expiry': '12 months',\n",
              "  'Name': 'T-shirt ',\n",
              "  'Price': 499,\n",
              "  'Quantity': 47,\n",
              "  'color': 'NA '},\n",
              " '1205': {'Discount': 0,\n",
              "  'Expiry': '12 months',\n",
              "  'Name': 'Jeans ',\n",
              "  'Price': 800,\n",
              "  'Quantity': 32,\n",
              "  'color': 'NA '},\n",
              " '1206': {'Discount': 0,\n",
              "  'Expiry': '3months',\n",
              "  'Name': 'Shirt ',\n",
              "  'Price': 499,\n",
              "  'Quantity': 47,\n",
              "  'color': 'Red'},\n",
              " '1207': {'Discount': 0,\n",
              "  'Expiry': '12months',\n",
              "  'Name': 'WaterBottel',\n",
              "  'Price': 20,\n",
              "  'Quantity': 23,\n",
              "  'color': 'Orange '},\n",
              " '1208': {'Discount': 150,\n",
              "  'Expiry': '3months',\n",
              "  'Name': 'Mobile ',\n",
              "  'Price': 10000,\n",
              "  'Quantity': 12,\n",
              "  'color': 'NA '},\n",
              " '1209': {'Discount': 100,\n",
              "  'Expiry': '3months',\n",
              "  'Name': 'Dress ',\n",
              "  'Price': 1900,\n",
              "  'Quantity': 22,\n",
              "  'color': 'NA '},\n",
              " '1210': {'Discount': 1000,\n",
              "  'Expiry': '3months',\n",
              "  'Name': 'Laptop  ',\n",
              "  'Price': 35000,\n",
              "  'Quantity': 47,\n",
              "  'color': 'Red'},\n",
              " '1211': {'Discount': 300,\n",
              "  'Expiry': '3months',\n",
              "  'Name': 'Ipad ',\n",
              "  'Price': 20000,\n",
              "  'Quantity': 44,\n",
              "  'color': 'Orange'},\n",
              " '1212': {'Discount': 200,\n",
              "  'Expiry': '3months',\n",
              "  'Name': 'Iphone ',\n",
              "  'Price': 80000,\n",
              "  'Quantity': 78,\n",
              "  'color': 'Green '},\n",
              " '1213': {'Discount': 200,\n",
              "  'Expiry': '6 months',\n",
              "  'Name': 'Watches ',\n",
              "  'Price': 1000,\n",
              "  'Quantity': 47,\n",
              "  'color': 'NA '},\n",
              " '1214': {'Discount': 0,\n",
              "  'Expiry': '6 months',\n",
              "  'Name': 'Googels',\n",
              "  'Price': 200,\n",
              "  'Quantity': 67,\n",
              "  'color': 'Orange '},\n",
              " '1215': {'Discount': 0,\n",
              "  'Expiry': '6 months',\n",
              "  'Name': 'Perfumes ',\n",
              "  'Price': 250,\n",
              "  'Quantity': 47,\n",
              "  'color': 'NA '},\n",
              " '1216': {'Discount': 0,\n",
              "  'Expiry': '6 months',\n",
              "  'Name': 'Umbrella ',\n",
              "  'Price': 430,\n",
              "  'Quantity': 65,\n",
              "  'color': 'NA '},\n",
              " '1217': {'Discount': 0,\n",
              "  'Expiry': '6 months',\n",
              "  'Name': 'Raincot',\n",
              "  'Price': 230,\n",
              "  'Quantity': 47,\n",
              "  'color': 'NA '},\n",
              " '1218': {'Discount': 0,\n",
              "  'Expiry': '6 months',\n",
              "  'Name': 'Bag ',\n",
              "  'Price': 500,\n",
              "  'Quantity': 76,\n",
              "  'color': ' NA'},\n",
              " '1219': {'Discount': 0,\n",
              "  'Expiry': '6 months',\n",
              "  'Name': 'Purse ',\n",
              "  'Price': 300,\n",
              "  'Quantity': 47,\n",
              "  'color': ' NA'},\n",
              " '1220': {'Discount': 0,\n",
              "  'Expiry': '9 months',\n",
              "  'Name': 'Comb ',\n",
              "  'Price': 30,\n",
              "  'Quantity': 66,\n",
              "  'color': 'Orange '},\n",
              " '1221': {'Discount': 0,\n",
              "  'Expiry': '9 months',\n",
              "  'Name': 'Pen',\n",
              "  'Price': 25,\n",
              "  'Quantity': 47,\n",
              "  'color': 'Yellow'},\n",
              " '1222': {'Discount': 0,\n",
              "  'Expiry': '9 months',\n",
              "  'Name': 'Pencil',\n",
              "  'Price': 15,\n",
              "  'Quantity': 45,\n",
              "  'color': 'NA'},\n",
              " '1223': {'Discount': 1,\n",
              "  'Expiry': '9 months',\n",
              "  'Name': 'Scale',\n",
              "  'Price': 15,\n",
              "  'Quantity': 33,\n",
              "  'color': 'NA'},\n",
              " '1224': {'Discount': 0,\n",
              "  'Expiry': '9 months',\n",
              "  'Name': 'Calculator',\n",
              "  'Price': 250,\n",
              "  'Quantity': 33,\n",
              "  'color': ' red'},\n",
              " '1225': {'Discount': 100,\n",
              "  'Expiry': '9 months',\n",
              "  'Name': 'Mixer ',\n",
              "  'Price': 2500,\n",
              "  'Quantity': 222,\n",
              "  'color': ' red'},\n",
              " '1226': {'Discount': 0,\n",
              "  'Expiry': '9 months',\n",
              "  'Name': 'Mask ',\n",
              "  'Price': 30,\n",
              "  'Quantity': 33,\n",
              "  'color': 'NA '},\n",
              " '1227': {'Discount': 0,\n",
              "  'Expiry': '9 months',\n",
              "  'Name': 'Keyboard',\n",
              "  'Price': 200,\n",
              "  'Quantity': 2,\n",
              "  'color': 'Red '},\n",
              " '1228': {'Discount': 0,\n",
              "  'Expiry': '12 months',\n",
              "  'Name': 'Bucket',\n",
              "  'Price': 400,\n",
              "  'Quantity': 22,\n",
              "  'color': 'Blue '},\n",
              " '1229': {'Discount': 0,\n",
              "  'Expiry': '12 months',\n",
              "  'Name': 'Notebook',\n",
              "  'Price': 50,\n",
              "  'Quantity': 33,\n",
              "  'color': 'NA '},\n",
              " '1230': {'Discount': 0,\n",
              "  'Expiry': '12 months',\n",
              "  'Name': 'Sanitizer',\n",
              "  'Price': 120,\n",
              "  'Quantity': 22,\n",
              "  'color': 'NA '},\n",
              " '1231': {'Discount': 20,\n",
              "  'Expiry': '2 Years',\n",
              "  'Name': 'Headset',\n",
              "  'Price': 1200,\n",
              "  'Quantity': 100,\n",
              "  'color': 'White'}}"
            ]
          },
          "metadata": {},
          "execution_count": 8
        }
      ]
    },
    {
      "cell_type": "markdown",
      "metadata": {
        "id": "-ArIkmh6LQVh"
      },
      "source": [
        "***"
      ]
    },
    {
      "cell_type": "markdown",
      "metadata": {
        "id": "eX-536y6LQh4"
      },
      "source": [
        "## 3) To purchase a Item from an Inventory and Updating the data inside JSON file"
      ]
    },
    {
      "cell_type": "markdown",
      "metadata": {
        "id": "Au5KJgHzLQ8J"
      },
      "source": [
        "****"
      ]
    },
    {
      "cell_type": "code",
      "metadata": {
        "id": "bz0Tw4i7My44"
      },
      "source": [
        "fd=open(\"record.json\",'r')\n",
        "txt=fd.read()\n",
        "fd.close()\n",
        "data=json.loads(txt)"
      ],
      "execution_count": 9,
      "outputs": []
    },
    {
      "cell_type": "code",
      "metadata": {
        "colab": {
          "base_uri": "https://localhost:8080/"
        },
        "id": "p96jy4cYe16W",
        "outputId": "14cf342d-9290-4d90-9cfe-d9f7a0e2102f"
      },
      "source": [
        "print(\"The Available Items in a store are :-\\n\")\n",
        "\n",
        "for key in sorted(data):\n",
        "  print(key,\"---->\",data[key][\"Name\"])"
      ],
      "execution_count": 10,
      "outputs": [
        {
          "output_type": "stream",
          "name": "stdout",
          "text": [
            "The Available Items in a store are :-\n",
            "\n",
            "1201 ----> Chocolate\n",
            "1202 ----> Cake \n",
            "1203 ----> Bicycle \n",
            "1204 ----> T-shirt \n",
            "1205 ----> Jeans \n",
            "1206 ----> Shirt \n",
            "1207 ----> WaterBottel\n",
            "1208 ----> Mobile \n",
            "1209 ----> Dress \n",
            "1210 ----> Laptop  \n",
            "1211 ----> Ipad \n",
            "1212 ----> Iphone \n",
            "1213 ----> Watches \n",
            "1214 ----> Googels\n",
            "1215 ----> Perfumes \n",
            "1216 ----> Umbrella \n",
            "1217 ----> Raincot\n",
            "1218 ----> Bag \n",
            "1219 ----> Purse \n",
            "1220 ----> Comb \n",
            "1221 ----> Pen\n",
            "1222 ----> Pencil\n",
            "1223 ----> Scale\n",
            "1224 ----> Calculator\n",
            "1225 ----> Mixer \n",
            "1226 ----> Mask \n",
            "1227 ----> Keyboard\n",
            "1228 ----> Bucket\n",
            "1229 ----> Notebook\n",
            "1230 ----> Sanitizer\n",
            "1231 ----> Headset\n"
          ]
        }
      ]
    },
    {
      "cell_type": "code",
      "metadata": {
        "id": "90oTs_SZR0HS",
        "colab": {
          "base_uri": "https://localhost:8080/"
        },
        "outputId": "7800ca1e-9b49-419c-b892-2d7a9fafce97"
      },
      "source": [
        "n=str(input(\"Enter the id of an Product From above Data: \"))\n",
        "\n",
        "print(\"The Price of the item\",data[n][\"Name\"] ,\"is :\" ,data[n][\"Price\"])\n",
        "\n",
        "p=int(input(\"Enter the Quantity of Product : \"))\n",
        "\n",
        "if(p>data[n][\"Quantity\"]):\n",
        "  print(\"Insufficient Stock...!!!,   Available quntities are :\",data[n][\"Quantity\"])\n",
        "  p=0;\n",
        "  p=int(input(\"Reenter the Qunatity of Product : \"))"
      ],
      "execution_count": 38,
      "outputs": [
        {
          "name": "stdout",
          "output_type": "stream",
          "text": [
            "Enter the id of an Product From above Data: 1209\n",
            "The Price of the item Dress  is : 1900\n",
            "Enter the Quantity of Product : 2\n"
          ]
        }
      ]
    },
    {
      "cell_type": "markdown",
      "metadata": {
        "id": "PBHa5PQwhXSh"
      },
      "source": [
        "****"
      ]
    },
    {
      "cell_type": "markdown",
      "metadata": {
        "id": "nasWSy6ng8V0"
      },
      "source": [
        "##4) The below code updates the Previous value of Quantity of product after purshasing that product.  "
      ]
    },
    {
      "cell_type": "markdown",
      "metadata": {
        "id": "NODVn6p9hce-"
      },
      "source": [
        "***"
      ]
    },
    {
      "cell_type": "code",
      "metadata": {
        "id": "qyRfONy5MHTy"
      },
      "source": [
        "data[n][\"Quantity\"]=data[n][\"Quantity\"]-p\n"
      ],
      "execution_count": 39,
      "outputs": []
    },
    {
      "cell_type": "code",
      "metadata": {
        "id": "RTWpMch0MKzp"
      },
      "source": [
        "js=json.dumps(data)\n",
        "\n",
        "fd=open(\"record.json\",\"w\")\n",
        "fd.write(js)\n",
        "fd.close()"
      ],
      "execution_count": 40,
      "outputs": []
    },
    {
      "cell_type": "code",
      "metadata": {
        "id": "aSPg_EydMfKf"
      },
      "source": [
        "fd=open(\"record.json\",\"r\")\n",
        "txt=fd.read()\n",
        "fd.close()"
      ],
      "execution_count": 41,
      "outputs": []
    },
    {
      "cell_type": "code",
      "metadata": {
        "id": "F5d6m4kNMm9d"
      },
      "source": [
        "record=json.loads(txt)"
      ],
      "execution_count": 42,
      "outputs": []
    },
    {
      "cell_type": "markdown",
      "metadata": {
        "id": "rcUo-thvLxSz"
      },
      "source": [
        "***"
      ]
    },
    {
      "cell_type": "markdown",
      "metadata": {
        "id": "Z6sZiM13LyvP"
      },
      "source": [
        "## 5) For Output the bill after succesful purchase of an Item."
      ]
    },
    {
      "cell_type": "markdown",
      "metadata": {
        "id": "2RwfCVyVL-Bc"
      },
      "source": [
        "****"
      ]
    },
    {
      "cell_type": "code",
      "metadata": {
        "id": "EmAvZ-p2R0Ix",
        "colab": {
          "base_uri": "https://localhost:8080/"
        },
        "outputId": "7155d2e4-78be-4c2b-eb9b-7b61ddece8fe"
      },
      "source": [
        "import time\n",
        "gst=(data[n][\"Price\"]*5)/100\n",
        "amount=(((data[n][\"Price\"]*p) +gst)-data[n][\"Discount\"])\n",
        " \n",
        " \n",
        "print(\"------**********-------Bill------**********------\")\n",
        "print(time.ctime(),\"\\n\\n\" ) \n",
        "print(\"The Purchased item is : \",data[n][\"Name\"])\n",
        "print(\"The quantity of item  :\"  , p,'\\n');\n",
        " \n",
        "print(\"-------------------------------------------------\\n\")\n",
        " \n",
        "print(\"The Price Of Item Purshased is\",amount,'\\n')\n",
        "print(\"---------------- THANK YOU ---------------------\\n\")"
      ],
      "execution_count": 43,
      "outputs": [
        {
          "output_type": "stream",
          "name": "stdout",
          "text": [
            "------**********-------Bill------**********------\n",
            "Fri Sep  3 12:06:33 2021 \n",
            "\n",
            "\n",
            "The Purchased item is :  Dress \n",
            "The quantity of item  : 2 \n",
            "\n",
            "-------------------------------------------------\n",
            "\n",
            "The Price Of Item Purshased is 3795.0 \n",
            "\n",
            "---------------- THANK YOU ---------------------\n",
            "\n"
          ]
        }
      ]
    },
    {
      "cell_type": "markdown",
      "metadata": {
        "id": "pq__3KmJXKlG"
      },
      "source": [
        "*****"
      ]
    },
    {
      "cell_type": "markdown",
      "metadata": {
        "id": "8BKqV0A6XLjE"
      },
      "source": [
        "## 6) Creating sales.json file for storing all data"
      ]
    },
    {
      "cell_type": "markdown",
      "metadata": {
        "id": "Yutm9RO_XLk-"
      },
      "source": [
        "******"
      ]
    },
    {
      "cell_type": "code",
      "metadata": {
        "id": "IQQCgmHSW1rI"
      },
      "source": [
        "sale[n]={\"Name\":data[n][\"Name\"],\"Price\":data[n][\"Price\"],\"Quantity\":p,\"Amount_Paid\":amount}"
      ],
      "execution_count": 44,
      "outputs": []
    },
    {
      "cell_type": "code",
      "metadata": {
        "id": "aksA35a30_Ij"
      },
      "source": [
        "import json\n",
        "\n",
        "jd=json.dumps(sale)\n",
        "file=open(\"sales.json\",\"w\")\n",
        "file.write(jd)\n",
        "file.close()\n"
      ],
      "execution_count": 45,
      "outputs": []
    },
    {
      "cell_type": "markdown",
      "metadata": {
        "id": "hwTczaCPecdH"
      },
      "source": [
        "******"
      ]
    },
    {
      "cell_type": "markdown",
      "metadata": {
        "id": "SUQ5LdKgeekV"
      },
      "source": [
        "## 7) Displaying Sales.json file Content and all the sales made uptil now"
      ]
    },
    {
      "cell_type": "markdown",
      "metadata": {
        "id": "_Tk8OvV2eemX"
      },
      "source": [
        "*****"
      ]
    },
    {
      "cell_type": "code",
      "metadata": {
        "colab": {
          "base_uri": "https://localhost:8080/"
        },
        "id": "Mo86jUOfYh4J",
        "outputId": "b4a7a237-5851-4f05-a3a5-5679e53f90ff"
      },
      "source": [
        "file=open(\"sales.json\",\"r\")\n",
        "r=file.read()\n",
        "file.close()\n",
        "see=json.loads(r)\n",
        "see"
      ],
      "execution_count": 46,
      "outputs": [
        {
          "output_type": "execute_result",
          "data": {
            "text/plain": [
              "{'1209': {'Amount_Paid': 3795.0,\n",
              "  'Name': 'Dress ',\n",
              "  'Price': 1900,\n",
              "  'Quantity': 2},\n",
              " '1211': {'Amount_Paid': 440700.0,\n",
              "  'Name': 'Ipad ',\n",
              "  'Price': 20000,\n",
              "  'Quantity': 22},\n",
              " '1222': {'Amount_Paid': 180.75,\n",
              "  'Name': 'Pencil',\n",
              "  'Price': 15,\n",
              "  'Quantity': 12},\n",
              " '1231': {'Amount_Paid': 1240.0,\n",
              "  'Name': 'Headset',\n",
              "  'Price': 1200,\n",
              "  'Quantity': 1}}"
            ]
          },
          "metadata": {},
          "execution_count": 46
        }
      ]
    },
    {
      "cell_type": "code",
      "metadata": {
        "id": "cb3vhKtti4aa"
      },
      "source": [
        ""
      ],
      "execution_count": null,
      "outputs": []
    }
  ]
}